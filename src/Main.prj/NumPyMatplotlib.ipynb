{
 "cells": [
  {
   "cell_type": "code",
   "execution_count": 172,
   "metadata": {},
   "outputs": [],
   "source": [
    "import matplotlib.pyplot as plt\n",
    "import numpy as np\n",
    "import random\n",
    "from timeit import default_timer as timer\n",
    "import pandas as pd"
   ]
  },
  {
   "cell_type": "code",
   "execution_count": 173,
   "metadata": {
    "scrolled": true
   },
   "outputs": [],
   "source": [
    "#Создаем векторы с координатами в виде массива.\n",
    "x10 = np.array(random.sample(range(1000), 10))\n",
    "y10 = np.array(random.sample(range(1000), 10))\n",
    "\n",
    "x50 = np.array(random.sample(range(1000), 50))\n",
    "y50 = np.array(random.sample(range(1000), 50))\n",
    "\n",
    "x100 = np.array(random.sample(range(1000), 100))\n",
    "y100 = np.array(random.sample(range(1000), 100))"
   ]
  },
  {
   "cell_type": "code",
   "execution_count": 174,
   "metadata": {},
   "outputs": [],
   "source": [
    "#Наивное скалярное произведение.\n",
    "def naiveScalarMult(x, y):\n",
    "    assert x.ndim == 1 and y.ndim == 1\n",
    "    assert x.size == y.size\n",
    "    result = 0\n",
    "    for i in range(x.size):\n",
    "        result += x[i]*y[i]\n",
    "    return result"
   ]
  },
  {
   "cell_type": "code",
   "execution_count": 175,
   "metadata": {
    "scrolled": true
   },
   "outputs": [],
   "source": [
    "#NumPy произведение.\n",
    "def numPyScalarMult(x, y):\n",
    "    assert x.ndim == 1 and y.ndim == 1\n",
    "    assert x.size == y.size\n",
    "\n",
    "    return np.dot(x, y)"
   ]
  },
  {
   "cell_type": "code",
   "execution_count": 176,
   "metadata": {
    "scrolled": false
   },
   "outputs": [],
   "source": [
    "#Функция возвращает время выполнения функции с параметрами x, y.\n",
    "def timeOf(function, x, y):\n",
    "    times = []\n",
    "    for iter in range(10000):\n",
    "        t = timer()\n",
    "        function(x, y)\n",
    "        delta = timer() - t\n",
    "        times.append(delta)\n",
    "    return sum(times)/len(times)"
   ]
  },
  {
   "cell_type": "code",
   "execution_count": 177,
   "metadata": {},
   "outputs": [
    {
     "data": {
      "text/plain": [
       "<matplotlib.legend.Legend at 0x1c88cfef408>"
      ]
     },
     "execution_count": 177,
     "metadata": {},
     "output_type": "execute_result"
    },
    {
     "data": {
      "image/png": "[encoded data removed]",
      "text/plain": [
       "<Figure size 432x288 with 1 Axes>"
      ]
     },
     "metadata": {
      "needs_background": "light"
     },
     "output_type": "display_data"
    }
   ],
   "source": [
    "#Значения оси ординат в соответствии со временем выполнения функций проиизведения.\n",
    "timesNaive = np.array([timeOf(naiveScalarMult, x10, y10), timeOf(naiveScalarMult, x50, y50), timeOf(naiveScalarMult, x100, y100)])\n",
    "timesNumPy = np.array([timeOf(numPyScalarMult, x10, y10), timeOf(numPyScalarMult, x50, y50), timeOf(numPyScalarMult, x100, y100)])\n",
    "\n",
    "#Значения оси абцисс в соответствии с длинной векторов.\n",
    "xRange = [x10.size, x50.size, x100.size]\n",
    "\n",
    "#Построение графика.\n",
    "plt.title(\"Сравнение наивного скалярного произведения и numpy\")\n",
    "plt.xlabel(\"Длина вектора\")\n",
    "plt.ylabel(\"Врямя\")\n",
    "\n",
    "plt.grid()\n",
    "plt.plot(xRange, timesNaive, '-', color = 'g', label = \"Naive\")\n",
    "plt.plot(xRange, timesNumPy, '-', color = 'r', label = \"NumPy\")\n",
    "\n",
    "plt.legend(loc = \"best\")"
   ]
  },
  {
   "cell_type": "code",
   "execution_count": 178,
   "metadata": {},
   "outputs": [
    {
     "name": "stdout",
     "output_type": "stream",
     "text": [
      "   Length  Naive time  NumPy time\n",
      "0      10    0.000011    0.000016\n",
      "1      50    0.000038    0.000018\n",
      "2     100    0.000073    0.000021\n"
     ]
    }
   ],
   "source": [
    "#Сохраняем результаты в DataFrame.\n",
    "results = pd.DataFrame({\n",
    "    \"Length\": xRange,\n",
    "    \"Naive time\": timesNaive,\n",
    "    \"NumPy time\": timesNumPy\n",
    "})\n",
    "print(results)"
   ]
  },
  {
   "cell_type": "code",
   "execution_count": null,
   "metadata": {},
   "outputs": [],
   "source": []
  }
 ],
 "metadata": {
  "kernelspec": {
   "display_name": "Python 3",
   "language": "python",
   "name": "python3"
  },
  "language_info": {
   "codemirror_mode": {
    "name": "ipython",
    "version": 3
   },
   "file_extension": ".py",
   "mimetype": "text/x-python",
   "name": "python",
   "nbconvert_exporter": "python",
   "pygments_lexer": "ipython3",
   "version": "3.7.6"
  }
 },
 "nbformat": 4,
 "nbformat_minor": 4
}
